{
 "cells": [
  {
   "cell_type": "code",
   "execution_count": 5,
   "metadata": {},
   "outputs": [],
   "source": [
    "import pandas as pd\n",
    "from datetime import datetime"
   ]
  },
  {
   "cell_type": "code",
   "execution_count": 8,
   "metadata": {},
   "outputs": [],
   "source": [
    "io = \"../data/DataCoSupplyChain_2017_Semester2.csv\"\n",
    "\n",
    "sc_df = pd.read_csv(io, encoding='latin-1')"
   ]
  },
  {
   "cell_type": "code",
   "execution_count": 13,
   "metadata": {},
   "outputs": [
    {
     "data": {
      "text/plain": [
       "Index(['Type', 'Days_for_shipping_real', 'Days_for_shipment_scheduled',\n",
       "       'Benefit_per_order', 'Sales_per_customer', 'Delivery_Status',\n",
       "       'Late_delivery_risk', 'Category_Id', 'Category_Name', 'Customer_City',\n",
       "       'Customer_Country', 'Customer_Email', 'Customer_Fname', 'Customer_Id',\n",
       "       'Customer_Lname', 'Customer_Password', 'Customer_Segment',\n",
       "       'Customer_State', 'Customer_Street', 'Customer_Zipcode',\n",
       "       'Department_Id', 'Department_Name', 'Latitude', 'Longitude', 'Market',\n",
       "       'Order_City', 'Order_Country', 'Order_Customer_Id',\n",
       "       'order_date_DateOrders', 'Order_Id', 'Order_Item_Cardprod_Id',\n",
       "       'Order_Item_Discount', 'Order_Item_Discount_Rate', 'Order_Item_Id',\n",
       "       'Order_Item_Product_Price', 'Order_Item_Profit_Ratio',\n",
       "       'Order_Item_Quantity', 'Sales', 'Order_Item_Total',\n",
       "       'Order_Profit_Per_Order', 'Order_Region', 'Order_State', 'Order_Status',\n",
       "       'Order_Zipcode', 'Product_Card_Id', 'Product_Category_Id',\n",
       "       'Product_Description', 'Product_Image', 'Product_Name', 'Product_Price',\n",
       "       'Product_Status', 'shipping_date_DateOrders', 'Shipping_Mode'],\n",
       "      dtype='object')"
      ]
     },
     "execution_count": 13,
     "metadata": {},
     "output_type": "execute_result"
    }
   ],
   "source": [
    "sc_df.columns"
   ]
  },
  {
   "cell_type": "code",
   "execution_count": 9,
   "metadata": {},
   "outputs": [],
   "source": [
    "sc_df['shipping_date_DateOrders'] = pd.to_datetime(sc_df[\"shipping_date_DateOrders\"])\n",
    "sc_df['order_date_DateOrders'] = pd.to_datetime(sc_df[\"order_date_DateOrders\"])"
   ]
  },
  {
   "attachments": {},
   "cell_type": "markdown",
   "metadata": {},
   "source": [
    "tables to make:\n",
    "- date: 'shipping_date_DateOrders', 'order_date_DateOrders'\n",
    "\n",
    "- category: 'Category_Id', 'Category_Name'\n",
    "\n",
    "- department: 'Department_Id', 'Department_Name'\n",
    "\n",
    "- product: 'Product_Card_Id', 'Product_Description', 'Product_Image', 'Product_Name', 'Product_Price', 'Product_Status',\n",
    "    - FK: 'Product_Category_Id',\n",
    "\n",
    "- order_item: 'Order_Item_Discount', 'Order_Item_Discount_Rate', 'Order_Item_Id', 'Order_Item_Product_Price', 'Order_Item_Profit_Ratio',\n",
    "       'Order_Item_Quantity', 'Sales', 'Order_Item_Total', 'Order_Profit_Per_Order'\n",
    "    - FK: 'Order_Item_Cardprod_Id'\n",
    "\n",
    "- order: 'Type', 'Sales_per_customer',  'Order_Id', 'Order_Status'\n",
    "    - FK: 'Market', 'Order_City', 'Order_Country', 'order_date_DateOrders', 'Order_Region', 'Order_State', 'Order_Customer_Id'\n",
    "\n",
    "- shipping: 'Days_for_shipping_real', 'Days_for_shipment_scheduled', 'Delivery_Status', 'Late_delivery_risk', 'Shipping_Mode'\n",
    "    - FK: 'shipping_date_DateOrders'\n",
    "\n",
    "- customer: 'Customer_Id', 'Customer_Fname', 'Customer_Lname', 'Customer_Zipcode'\n",
    "    - FK: 'Customer_Segment', 'Customer_City', 'Customer_Country', 'Latitude', 'Longitude'\n",
    "\n",
    "- segment: 'Customer_Segment',\n",
    "\n",
    "- city: 'Customer_City', 'Order_City', \n",
    "- state: 'Order_State'\n",
    "- country: 'Customer_Country', 'Order_Country'\n",
    "- region: 'Order_Region', \n",
    "- market: 'Market'\n",
    "\n",
    "Nowhere:\n",
    "       'Benefit_per_order',\n",
    "       'Customer_Password', Customer_Email',\n",
    "       'Customer_State', 'Customer_Street', \n",
    "       'Order_Zipcode',  "
   ]
  }
 ],
 "metadata": {
  "kernelspec": {
   "display_name": "venv202211",
   "language": "python",
   "name": "python3"
  },
  "language_info": {
   "codemirror_mode": {
    "name": "ipython",
    "version": 3
   },
   "file_extension": ".py",
   "mimetype": "text/x-python",
   "name": "python",
   "nbconvert_exporter": "python",
   "pygments_lexer": "ipython3",
   "version": "3.11.0"
  },
  "orig_nbformat": 4
 },
 "nbformat": 4,
 "nbformat_minor": 2
}
